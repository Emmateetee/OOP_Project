{
 "cells": [
  {
   "cell_type": "markdown",
   "metadata": {},
   "source": [
    "### OOP Project: 1\n",
    "\n",
    "Create a small database for the community.\n",
    "\n",
    "Task: lets quickly create a class for DSN AI FUTA(give it a nicer name). It should have the following attributes;\n",
    "\n",
    "1)name\n",
    "2)python_proficiency_level\n",
    "3)age\n",
    "4)dept\n",
    "5)zindi_participation-default to None\n",
    "6)kaggle_participation-default to None\n",
    "\n",
    " Then a static method or class property for the community lead containing his name and Twitter handle. That once called will bring the short bio of the community lead.\n",
    "\n",
    "Then it should have the following methods.\n",
    "z for zindi\n",
    "k- for kaggle\n",
    "\n",
    "a) update()- it receives information about a new member and populates the DB.\n",
    "b) delete- it deletes a particular member from the DB.\n",
    "\n",
    "c) retrieve ()- it returns a dictionary of a particular member when an ID is passed.\n",
    "\n",
    "\n",
    "\n",
    "Let the database be a JSON file so use the python built in Json module\n"
   ]
  },
  {
   "cell_type": "code",
   "execution_count": 1,
   "metadata": {},
   "outputs": [],
   "source": [
    "import json\n",
    "from random import randint"
   ]
  },
  {
   "cell_type": "code",
   "execution_count": 2,
   "metadata": {},
   "outputs": [
    {
     "name": "stdout",
     "output_type": "stream",
     "text": [
      "Your id is  240 . Please keep it safe\n"
     ]
    }
   ],
   "source": [
    "data = {\"Name\": 'Toby', \"Level\": 'Beginner', \"Age\": 11, \"Dept\":'CSE'}\n",
    "id = randint(100, 999)\n",
    "db = {}\n",
    "db.update({id : data})\n",
    "print(\"Your id is \", id, \". Please keep it safe\")"
   ]
  },
  {
   "cell_type": "code",
   "execution_count": 3,
   "metadata": {},
   "outputs": [
    {
     "name": "stdout",
     "output_type": "stream",
     "text": [
      "Your id is  896 . Please keep it safe\n"
     ]
    }
   ],
   "source": [
    "data = {\"Name\": 'Titi', \"Level\": 'Beginner', \"Age\": 11, \"Dept\":'EEE'}\n",
    "id = randint(100, 999)\n",
    "db.update({id : data})\n",
    "print(\"Your id is \", id, \". Please keep it safe\")"
   ]
  },
  {
   "cell_type": "code",
   "execution_count": 4,
   "metadata": {},
   "outputs": [
    {
     "name": "stdout",
     "output_type": "stream",
     "text": [
      "Your id is  518 . Please keep it safe\n"
     ]
    }
   ],
   "source": [
    "data = {\"Name\": 'Tolu', \"Level\": 'Beginner', \"Age\": 11, \"Dept\":'CVE'}\n",
    "id = randint(100, 999)\n",
    "db.update({id : data})\n",
    "print(\"Your id is \", id, \". Please keep it safe\")"
   ]
  },
  {
   "cell_type": "code",
   "execution_count": 5,
   "metadata": {},
   "outputs": [
    {
     "name": "stdout",
     "output_type": "stream",
     "text": [
      "Your id is  204 . Please keep it safe\n"
     ]
    }
   ],
   "source": [
    "data = {\"Name\": 'Tayo', \"Level\": 'Beginner', \"Age\": 11, \"Dept\":'MEE'}\n",
    "id = randint(100, 999)\n",
    "db.update({id : data})\n",
    "print(\"Your id is \", id, \". Please keep it safe\")"
   ]
  },
  {
   "cell_type": "code",
   "execution_count": 6,
   "metadata": {},
   "outputs": [
    {
     "data": {
      "text/plain": [
       "{240: {'Name': 'Toby', 'Level': 'Beginner', 'Age': 11, 'Dept': 'CSE'},\n",
       " 896: {'Name': 'Titi', 'Level': 'Beginner', 'Age': 11, 'Dept': 'EEE'},\n",
       " 518: {'Name': 'Tolu', 'Level': 'Beginner', 'Age': 11, 'Dept': 'CVE'},\n",
       " 204: {'Name': 'Tayo', 'Level': 'Beginner', 'Age': 11, 'Dept': 'MEE'}}"
      ]
     },
     "execution_count": 6,
     "metadata": {},
     "output_type": "execute_result"
    }
   ],
   "source": [
    "db"
   ]
  },
  {
   "cell_type": "code",
   "execution_count": 7,
   "metadata": {},
   "outputs": [
    {
     "data": {
      "text/plain": [
       "{'Name': 'Tolu', 'Level': 'Beginner', 'Age': 11, 'Dept': 'CVE'}"
      ]
     },
     "execution_count": 7,
     "metadata": {},
     "output_type": "execute_result"
    }
   ],
   "source": [
    "db[518]"
   ]
  },
  {
   "cell_type": "code",
   "execution_count": 8,
   "metadata": {},
   "outputs": [],
   "source": [
    "del db[204]"
   ]
  },
  {
   "cell_type": "code",
   "execution_count": 9,
   "metadata": {},
   "outputs": [
    {
     "data": {
      "text/plain": [
       "{240: {'Name': 'Toby', 'Level': 'Beginner', 'Age': 11, 'Dept': 'CSE'},\n",
       " 896: {'Name': 'Titi', 'Level': 'Beginner', 'Age': 11, 'Dept': 'EEE'},\n",
       " 518: {'Name': 'Tolu', 'Level': 'Beginner', 'Age': 11, 'Dept': 'CVE'}}"
      ]
     },
     "execution_count": 9,
     "metadata": {},
     "output_type": "execute_result"
    }
   ],
   "source": [
    "db"
   ]
  },
  {
   "cell_type": "markdown",
   "metadata": {},
   "source": [
    "### OOP Project: 2\n",
    "Change all your code base from procedural and functional to Object oriented.\n"
   ]
  },
  {
   "cell_type": "code",
   "execution_count": 10,
   "metadata": {},
   "outputs": [],
   "source": [
    "import json\n",
    "from random import randint\n",
    "\n",
    "class Dsn_Futa:\n",
    "    \n",
    "    db = {} \n",
    "    def __init__(self, name= None, level= None, age= None, dept= None, zindi = None, kaggle = None):\n",
    "        \n",
    "        self.name = name\n",
    "        self.level = level\n",
    "        self.age = age\n",
    "        self.dept = dept\n",
    "        self.zindi = zindi\n",
    "        self.kaggle = kaggle\n",
    "        \n",
    "    def __del__(self):\n",
    "        \n",
    "        print(\"The destructor has just been called!\")\n",
    "        \n",
    "    @staticmethod\n",
    "    def comm(name = 'Lawrence Okegbemi', twitter = 'Lawrence_bolu'):\n",
    "        \n",
    "        print(\"Welcome to this page, I'm {}. You can connect with me on twitter via @{}. Thanks for your time.\".format(name, twitter))\n",
    "        \n",
    "    def z():\n",
    "        pass\n",
    "    \n",
    "    def k():\n",
    "        pass\n",
    "    \n",
    "    def update(self, name, level, age, dept):\n",
    "        \n",
    "        data = {\"Name\": name, \"Level\": level, \"Age\": age, \"Dept\":dept}\n",
    "        id = randint(100, 999)\n",
    "\n",
    "        self.db.update({id : data})\n",
    "        print(\"Your id is \", id, \". Please keep it safe\")\n",
    "        \n",
    "        with open('database.json', 'w') as my_file:\n",
    "            json.dump(self.db, my_file, separators = (',', ':'))\n",
    "        print(\"Your data has been saved. Thank you.\")\n",
    "        \n",
    "    def delete(self, id):\n",
    "        \n",
    "        with open('database.json', 'r') as file:\n",
    "            database = json.loads(file.read())\n",
    "            database.pop(id)\n",
    "            \n",
    "        with open('database.json', 'w') as file:    \n",
    "            json.dump(database, file, separators = (',', ':'))\n",
    "            \n",
    "        print(\"The data with this id \", id, \" has been successfully deleted from the database.\")\n",
    "        \n",
    "    def retrieve(self, id):\n",
    "        \n",
    "        with open('database.json', 'r') as file:\n",
    "            database = json.loads(file.read())\n",
    "            output = database[id]\n",
    "            print(output)\n"
   ]
  },
  {
   "cell_type": "markdown",
   "metadata": {},
   "source": [
    "### TEST"
   ]
  },
  {
   "cell_type": "markdown",
   "metadata": {},
   "source": [
    "#### Create an instance of the class"
   ]
  },
  {
   "cell_type": "code",
   "execution_count": 11,
   "metadata": {},
   "outputs": [],
   "source": [
    "dt = Dsn_Futa()"
   ]
  },
  {
   "cell_type": "markdown",
   "metadata": {},
   "source": [
    "##### Initially the dictionary holding the data is empty"
   ]
  },
  {
   "cell_type": "code",
   "execution_count": 12,
   "metadata": {},
   "outputs": [
    {
     "data": {
      "text/plain": [
       "{}"
      ]
     },
     "execution_count": 12,
     "metadata": {},
     "output_type": "execute_result"
    }
   ],
   "source": [
    "dt.db"
   ]
  },
  {
   "cell_type": "markdown",
   "metadata": {},
   "source": [
    "#### Populate the database by calling the update method"
   ]
  },
  {
   "cell_type": "code",
   "execution_count": 13,
   "metadata": {},
   "outputs": [
    {
     "name": "stdout",
     "output_type": "stream",
     "text": [
      "Your id is  411 . Please keep it safe\n",
      "Your data has been saved. Thank you.\n"
     ]
    }
   ],
   "source": [
    "dt.update('Taiwo', 'Beginner', 12, 'EEE')"
   ]
  },
  {
   "cell_type": "code",
   "execution_count": 14,
   "metadata": {},
   "outputs": [
    {
     "name": "stdout",
     "output_type": "stream",
     "text": [
      "Your id is  978 . Please keep it safe\n",
      "Your data has been saved. Thank you.\n"
     ]
    }
   ],
   "source": [
    "dt.update('Toyin', 'Intermediate', 15, 'ECE')"
   ]
  },
  {
   "cell_type": "code",
   "execution_count": 15,
   "metadata": {},
   "outputs": [
    {
     "name": "stdout",
     "output_type": "stream",
     "text": [
      "Your id is  597 . Please keep it safe\n",
      "Your data has been saved. Thank you.\n"
     ]
    }
   ],
   "source": [
    "dt.update('Tobi', 'Advance', 11, 'CSE')"
   ]
  },
  {
   "cell_type": "code",
   "execution_count": 16,
   "metadata": {},
   "outputs": [
    {
     "name": "stdout",
     "output_type": "stream",
     "text": [
      "Your id is  310 . Please keep it safe\n",
      "Your data has been saved. Thank you.\n"
     ]
    }
   ],
   "source": [
    "dt.update('Tayo', 'Beginner', 13, 'CVE')"
   ]
  },
  {
   "cell_type": "code",
   "execution_count": 17,
   "metadata": {},
   "outputs": [
    {
     "name": "stdout",
     "output_type": "stream",
     "text": [
      "Your id is  498 . Please keep it safe\n",
      "Your data has been saved. Thank you.\n"
     ]
    }
   ],
   "source": [
    "dt.update('Deji', 'Advance', 10, 'MEE')"
   ]
  },
  {
   "cell_type": "code",
   "execution_count": 18,
   "metadata": {},
   "outputs": [
    {
     "name": "stdout",
     "output_type": "stream",
     "text": [
      "Your id is  858 . Please keep it safe\n",
      "Your data has been saved. Thank you.\n"
     ]
    }
   ],
   "source": [
    "dt.update('Dada', 'Intermediate', 15, 'ESM')"
   ]
  },
  {
   "cell_type": "markdown",
   "metadata": {},
   "source": [
    "#### Calling the static method"
   ]
  },
  {
   "cell_type": "code",
   "execution_count": 19,
   "metadata": {},
   "outputs": [
    {
     "name": "stdout",
     "output_type": "stream",
     "text": [
      "Welcome to this page, I'm Lawrence Okegbemi. You can connect with me on twitter via @Lawrence_bolu. Thanks for your time.\n"
     ]
    }
   ],
   "source": [
    "dt.comm()"
   ]
  },
  {
   "cell_type": "markdown",
   "metadata": {},
   "source": [
    "#### Call the retrieve method with a valid key. Remember it is a randomly generated value"
   ]
  },
  {
   "cell_type": "code",
   "execution_count": 20,
   "metadata": {},
   "outputs": [
    {
     "name": "stdout",
     "output_type": "stream",
     "text": [
      "{'Name': 'Tayo', 'Level': 'Beginner', 'Age': 13, 'Dept': 'CVE'}\n"
     ]
    }
   ],
   "source": [
    "dt.retrieve('310')"
   ]
  },
  {
   "cell_type": "markdown",
   "metadata": {},
   "source": [
    "#### Call the delete method with a valid key to delete the entry. Remember it is a randomly generated value"
   ]
  },
  {
   "cell_type": "code",
   "execution_count": 21,
   "metadata": {},
   "outputs": [
    {
     "name": "stdout",
     "output_type": "stream",
     "text": [
      "The data with this id  978  has been successfully deleted from the database.\n"
     ]
    }
   ],
   "source": [
    "dt.delete('978')"
   ]
  }
 ],
 "metadata": {
  "kernelspec": {
   "display_name": "Python 3",
   "language": "python",
   "name": "python3"
  },
  "language_info": {
   "codemirror_mode": {
    "name": "ipython",
    "version": 3
   },
   "file_extension": ".py",
   "mimetype": "text/x-python",
   "name": "python",
   "nbconvert_exporter": "python",
   "pygments_lexer": "ipython3",
   "version": "3.7.6"
  }
 },
 "nbformat": 4,
 "nbformat_minor": 4
}
